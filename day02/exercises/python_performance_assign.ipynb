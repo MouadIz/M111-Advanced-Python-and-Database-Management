{
 "cells": [
  {
   "cell_type": "markdown",
   "id": "09127981",
   "metadata": {},
   "source": [
    "<h1 align=\"center\">Python performance exercises</h1>"
   ]
  },
  {
   "cell_type": "markdown",
   "id": "aec3b2e9",
   "metadata": {},
   "source": [
    "## Python best practices exercises"
   ]
  },
  {
   "cell_type": "code",
   "execution_count": 2,
   "id": "8c1e9a98",
   "metadata": {},
   "outputs": [
    {
     "name": "stdout",
     "output_type": "stream",
     "text": [
      "Collecting package metadata (current_repodata.json): ...working... done\n",
      "Solving environment: ...working... done\n",
      "\n",
      "## Package Plan ##\n",
      "\n",
      "  environment location: C:\\Users\\hp\\anaconda3\n",
      "\n",
      "  added / updated specs:\n",
      "    - line_profiler\n",
      "\n",
      "\n",
      "The following packages will be downloaded:\n",
      "\n",
      "    package                    |            build\n",
      "    ---------------------------|-----------------\n",
      "    ca-certificates-2022.10.11 |       haa95532_0         125 KB\n",
      "    certifi-2022.9.24          |   py39haa95532_0         154 KB\n",
      "    conda-22.9.0               |   py39haa95532_0         888 KB\n",
      "    line_profiler-3.3.1        |   py39h59b6b97_0          71 KB\n",
      "    openssl-1.1.1s             |       h2bbff1b_0         5.5 MB\n",
      "    ------------------------------------------------------------\n",
      "                                           Total:         6.7 MB\n",
      "\n",
      "The following NEW packages will be INSTALLED:\n",
      "\n",
      "  line_profiler      pkgs/main/win-64::line_profiler-3.3.1-py39h59b6b97_0\n",
      "\n",
      "The following packages will be UPDATED:\n",
      "\n",
      "  ca-certificates                     2022.07.19-haa95532_0 --> 2022.10.11-haa95532_0\n",
      "  certifi                          2022.6.15-py39haa95532_0 --> 2022.9.24-py39haa95532_0\n",
      "  conda                               4.12.0-py39haa95532_0 --> 22.9.0-py39haa95532_0\n",
      "  openssl                                 1.1.1q-h2bbff1b_0 --> 1.1.1s-h2bbff1b_0\n",
      "\n",
      "\n",
      "\n",
      "Downloading and Extracting Packages\n",
      "\n",
      "ca-certificates-2022 | 125 KB    |            |   0% \n",
      "ca-certificates-2022 | 125 KB    | #2         |  13% \n",
      "ca-certificates-2022 | 125 KB    | ########## | 100% \n",
      "ca-certificates-2022 | 125 KB    | ########## | 100% \n",
      "\n",
      "conda-22.9.0         | 888 KB    |            |   0% \n",
      "conda-22.9.0         | 888 KB    | ##3        |  23% \n",
      "conda-22.9.0         | 888 KB    | ########## | 100% \n",
      "conda-22.9.0         | 888 KB    | ########## | 100% \n",
      "\n",
      "openssl-1.1.1s       | 5.5 MB    |            |   0% \n",
      "openssl-1.1.1s       | 5.5 MB    | #1         |  12% \n",
      "openssl-1.1.1s       | 5.5 MB    | ##5        |  25% \n",
      "openssl-1.1.1s       | 5.5 MB    | ####2      |  43% \n",
      "openssl-1.1.1s       | 5.5 MB    | ######9    |  69% \n",
      "openssl-1.1.1s       | 5.5 MB    | #########9 |  99% \n",
      "openssl-1.1.1s       | 5.5 MB    | ########## | 100% \n",
      "\n",
      "line_profiler-3.3.1  | 71 KB     |            |   0% \n",
      "line_profiler-3.3.1  | 71 KB     | ##2        |  22% \n",
      "line_profiler-3.3.1  | 71 KB     | ########## | 100% \n",
      "line_profiler-3.3.1  | 71 KB     | ########## | 100% \n",
      "\n",
      "certifi-2022.9.24    | 154 KB    |            |   0% \n",
      "certifi-2022.9.24    | 154 KB    | ########## | 100% \n",
      "certifi-2022.9.24    | 154 KB    | ########## | 100% \n",
      "Preparing transaction: ...working... done\n",
      "Verifying transaction: ...working... done\n",
      "Executing transaction: ...working... done\n",
      "\n",
      "Note: you may need to restart the kernel to use updated packages.\n"
     ]
    }
   ],
   "source": [
    "conda install line_profiler"
   ]
  },
  {
   "cell_type": "code",
   "execution_count": 9,
   "id": "a710d40f",
   "metadata": {},
   "outputs": [
    {
     "ename": "SyntaxError",
     "evalue": "invalid syntax (Temp/ipykernel_13708/1369576368.py, line 1)",
     "output_type": "error",
     "traceback": [
      "\u001b[1;36m  File \u001b[1;32m\"C:\\Users\\hp\\AppData\\Local\\Temp/ipykernel_13708/1369576368.py\"\u001b[1;36m, line \u001b[1;32m1\u001b[0m\n\u001b[1;33m    anaconda install line_profiler\u001b[0m\n\u001b[1;37m             ^\u001b[0m\n\u001b[1;31mSyntaxError\u001b[0m\u001b[1;31m:\u001b[0m invalid syntax\n"
     ]
    }
   ],
   "source": [
    "anaconda install line_profiler"
   ]
  },
  {
   "cell_type": "markdown",
   "id": "ad5ba6f1",
   "metadata": {},
   "source": [
    "### Exercise 1\n",
    "\n",
    "considering the following function for concatenating list strings with delimiter."
   ]
  },
  {
   "cell_type": "code",
   "execution_count": 2,
   "id": "9754d772",
   "metadata": {},
   "outputs": [],
   "source": [
    "def ft_concatenate(l_strings, d):\n",
    "    \"\"\"concatenate list of strings into one string separated by delimiter\"\"\"\n",
    "    res = l_strings[0]\n",
    "    for e in l_strings[1:]:\n",
    "        res = res + d + e\n",
    "    return res"
   ]
  },
  {
   "cell_type": "code",
   "execution_count": null,
   "id": "43f76120",
   "metadata": {},
   "outputs": [],
   "source": [
    "def ft_concatenate(l_strings, d):\n",
    "    \"\"\"concatenate list of strings into one string separated by delimeter\"\"\"\n",
    "    res = l_strings[0]\n",
    "    for idx,s in enumerate(l_strings): \n",
    "    return res"
   ]
  },
  {
   "cell_type": "code",
   "execution_count": 15,
   "id": "68e0a9d6",
   "metadata": {},
   "outputs": [],
   "source": [
    "%matplotlib inline"
   ]
  },
  {
   "cell_type": "code",
   "execution_count": 5,
   "id": "6cc9e119",
   "metadata": {},
   "outputs": [],
   "source": [
    "%load_ext line_profiler"
   ]
  },
  {
   "cell_type": "code",
   "execution_count": 3,
   "id": "d41c430c",
   "metadata": {
    "scrolled": true
   },
   "outputs": [
    {
     "name": "stdout",
     "output_type": "stream",
     "text": [
      "Package                            Version\n",
      "---------------------------------- --------------------\n",
      "absl-py                            1.0.0\n",
      "aiohttp                            3.8.1\n",
      "aiosignal                          1.2.0\n",
      "alabaster                          0.7.12\n",
      "alembic                            1.8.1\n",
      "anaconda-client                    1.9.0\n",
      "anaconda-navigator                 2.1.1\n",
      "anaconda-project                   0.10.1\n",
      "anyio                              2.2.0\n",
      "appdirs                            1.4.4\n",
      "argh                               0.26.2\n",
      "argon2-cffi                        20.1.0\n",
      "argon2-cffi-bindings               21.2.0\n",
      "arrow                              0.13.1\n",
      "asn1crypto                         1.4.0\n",
      "astroid                            2.6.6\n",
      "astropy                            4.3.1\n",
      "asttokens                          2.0.5\n",
      "astunparse                         1.6.3\n",
      "async-generator                    1.10\n",
      "async-timeout                      4.0.1\n",
      "atari-py                           0.2.6\n",
      "atomicwrites                       1.4.0\n",
      "attrs                              21.2.0\n",
      "Automat                            20.2.0\n",
      "autopep8                           1.5.7\n",
      "Babel                              2.9.1\n",
      "backcall                           0.2.0\n",
      "backports.functools-lru-cache      1.6.4\n",
      "backports.shutil-get-terminal-size 1.0.0\n",
      "backports.tempfile                 1.0\n",
      "backports.weakref                  1.0.post1\n",
      "baseline                           1.2.1\n",
      "bcrypt                             3.2.0\n",
      "beautifulsoup4                     4.10.0\n",
      "binaryornot                        0.4.4\n",
      "bitarray                           2.3.0\n",
      "bkcharts                           0.2\n",
      "black                              19.10b0\n",
      "bleach                             4.0.0\n",
      "blis                               0.7.8\n",
      "bokeh                              2.4.1\n",
      "boto                               2.49.0\n",
      "boto3                              1.24.28\n",
      "botocore                           1.27.28\n",
      "Bottleneck                         1.3.2\n",
      "brotlipy                           0.7.0\n",
      "cached-property                    1.5.2\n",
      "cachetools                         5.0.0\n",
      "catalogue                          2.0.8\n",
      "catboost                           1.0.6\n",
      "certifi                            2022.6.15\n",
      "cffi                               1.14.6\n",
      "chardet                            4.0.0\n",
      "charset-normalizer                 2.0.4\n",
      "click                              8.0.3\n",
      "cloudpickle                        1.6.0\n",
      "clyent                             1.2.2\n",
      "colorama                           0.4.4\n",
      "colorcet                           3.0.0\n",
      "colorlover                         0.3.0\n",
      "comtypes                           1.1.10\n",
      "conda                              4.12.0\n",
      "conda-build                        3.21.6\n",
      "conda-content-trust                0+unknown\n",
      "conda-pack                         0.6.0\n",
      "conda-package-handling             1.7.3\n",
      "conda-repo-cli                     1.0.4\n",
      "conda-token                        0.3.0\n",
      "conda-verify                       3.4.2\n",
      "constantly                         15.1.0\n",
      "contextlib2                        0.6.0.post1\n",
      "cookiecutter                       1.7.2\n",
      "cryptography                       3.4.8\n",
      "cssselect                          1.1.0\n",
      "cufflinks                          0.17.3\n",
      "cycler                             0.10.0\n",
      "cymem                              2.0.6\n",
      "Cython                             0.29.28\n",
      "cytoolz                            0.11.0\n",
      "daal4py                            2021.3.0\n",
      "dask                               2021.10.0\n",
      "databricks-cli                     0.17.0\n",
      "datashader                         0.14.1\n",
      "datashape                          0.5.4\n",
      "debugpy                            1.4.1\n",
      "decorator                          5.1.0\n",
      "defusedxml                         0.7.1\n",
      "diff-match-patch                   20200713\n",
      "distlib                            0.3.4\n",
      "distributed                        2021.10.0\n",
      "docker                             5.0.3\n",
      "docutils                           0.17.1\n",
      "entrypoints                        0.3\n",
      "et-xmlfile                         1.1.0\n",
      "executing                          0.8.3\n",
      "fastcache                          1.1.0\n",
      "fastjsonschema                     2.15.1\n",
      "filelock                           3.3.1\n",
      "flake8                             3.9.2\n",
      "Flask                              1.1.2\n",
      "flatbuffers                        2.0\n",
      "fonttools                          4.25.0\n",
      "forecast                           0.1.0\n",
      "frozenlist                         1.2.0\n",
      "fsspec                             2021.10.1\n",
      "funcy                              1.17\n",
      "future                             0.18.2\n",
      "gast                               0.5.3\n",
      "GDAL                               3.0.2\n",
      "gensim                             4.2.0\n",
      "gevent                             21.8.0\n",
      "gitdb                              4.0.9\n",
      "GitPython                          3.1.27\n",
      "glob2                              0.7\n",
      "google-api-core                    2.2.2\n",
      "google-auth                        2.6.0\n",
      "google-auth-oauthlib               0.4.6\n",
      "google-cloud-core                  2.2.2\n",
      "google-cloud-storage               1.43.0\n",
      "google-crc32c                      1.1.2\n",
      "google-pasta                       0.2.0\n",
      "google-resumable-media             1.3.1\n",
      "googleapis-common-protos           1.56.4\n",
      "graphviz                           0.20.1\n",
      "greenlet                           1.1.1\n",
      "grpcio                             1.43.0\n",
      "gspread                            5.4.0\n",
      "gym                                0.19.0\n",
      "h5py                               3.2.1\n",
      "HeapDict                           1.0.1\n",
      "holoviews                          1.14.8\n",
      "html5lib                           1.1\n",
      "htmlmin                            0.1.12\n",
      "httplib2                           0.20.4\n",
      "hvplot                             0.8.0\n",
      "hyperlink                          21.0.0\n",
      "idna                               3.2\n",
      "imagecodecs                        2021.8.26\n",
      "ImageHash                          4.2.1\n",
      "imageio                            2.9.0\n",
      "imagesize                          1.2.0\n",
      "imbalanced-learn                   0.9.1\n",
      "importlib-metadata                 4.8.1\n",
      "incremental                        21.3.0\n",
      "inflection                         0.5.1\n",
      "iniconfig                          1.1.1\n",
      "intake                             0.6.5\n",
      "intervaltree                       3.1.0\n",
      "ipykernel                          6.4.1\n",
      "ipython                            7.29.0\n",
      "ipython-genutils                   0.2.0\n",
      "ipywidgets                         7.6.5\n",
      "isort                              5.9.3\n",
      "itemadapter                        0.3.0\n",
      "itemloaders                        1.0.4\n",
      "itsdangerous                       2.0.1\n",
      "jdcal                              1.4.1\n",
      "jedi                               0.18.1\n",
      "Jinja2                             2.11.3\n",
      "jinja2-time                        0.2.0\n",
      "jmespath                           0.10.0\n",
      "joblib                             1.1.0\n",
      "json5                              0.9.6\n",
      "jsonschema                         3.2.0\n",
      "jupyter                            1.0.0\n",
      "jupyter-client                     6.1.12\n",
      "jupyter-console                    6.4.0\n",
      "jupyter-core                       4.8.1\n",
      "jupyter-server                     1.4.1\n",
      "jupyter-tabnine                    1.2.3\n",
      "jupyterlab                         3.2.1\n",
      "jupyterlab-pygments                0.1.2\n",
      "jupyterlab-server                  2.8.2\n",
      "jupyterlab-widgets                 1.0.0\n",
      "keras                              2.8.0\n",
      "Keras-Preprocessing                1.1.2\n",
      "keyring                            23.1.0\n",
      "kiwisolver                         1.3.1\n",
      "kmodes                             0.12.1\n",
      "langcodes                          3.3.0\n",
      "lazy-object-proxy                  1.6.0\n",
      "libarchive-c                       2.9\n",
      "libclang                           13.0.0\n",
      "lightgbm                           3.3.2\n",
      "line-profiler                      4.0.1\n",
      "llvmlite                           0.37.0\n",
      "locket                             0.2.1\n",
      "lxml                               4.6.3\n",
      "Mako                               1.2.1\n",
      "Markdown                           3.3.6\n",
      "MarkupSafe                         2.0.1\n",
      "matplotlib                         3.4.3\n",
      "matplotlib-inline                  0.1.2\n",
      "matrixprofile                      1.1.10\n",
      "mccabe                             0.6.1\n",
      "menuinst                           1.4.18\n",
      "missingno                          0.5.1\n",
      "mistune                            0.8.4\n",
      "mkl-fft                            1.3.1\n",
      "mkl-random                         1.2.2\n",
      "mkl-service                        2.4.0\n",
      "mlflow                             1.27.0\n",
      "mlxtend                            0.19.0\n",
      "mne                                1.1.0\n",
      "mock                               4.0.3\n",
      "more-itertools                     8.10.0\n",
      "mpmath                             1.2.1\n",
      "msgpack                            1.0.2\n",
      "multidict                          5.1.0\n",
      "multimethod                        1.7\n",
      "multipledispatch                   0.6.0\n",
      "multitasking                       0.0.10\n",
      "munkres                            1.1.4\n",
      "murmurhash                         1.0.7\n",
      "museotoolbox                       0.13.6\n",
      "mypy-extensions                    0.4.3\n",
      "mysql-connector                    2.2.9\n",
      "navigator-updater                  0.2.1\n",
      "nbclassic                          0.2.6\n",
      "nbclient                           0.5.3\n",
      "nbconvert                          6.1.0\n",
      "nbformat                           5.1.3\n",
      "nest-asyncio                       1.5.1\n",
      "networkx                           2.6.3\n",
      "nltk                               3.2.4\n",
      "nose                               1.3.7\n",
      "notebook                           6.4.5\n",
      "numba                              0.54.1\n",
      "numexpr                            2.7.3\n",
      "numpy                              1.20.3\n",
      "numpydoc                           1.1.0\n",
      "oauth2client                       4.1.3\n",
      "oauthlib                           3.2.0\n",
      "olefile                            0.46\n",
      "opencv-python                      4.5.5.62\n",
      "openpyxl                           3.0.9\n",
      "opt-einsum                         3.3.0\n",
      "packaging                          21.3\n",
      "pandas                             1.3.4\n",
      "pandas-profiling                   3.1.1\n",
      "pandocfilters                      1.4.3\n",
      "panel                              0.13.1\n",
      "param                              1.12.0\n",
      "paramiko                           2.7.2\n",
      "parsel                             1.6.0\n",
      "parso                              0.8.3\n",
      "partd                              1.2.0\n",
      "path                               16.0.0\n",
      "pathlib2                           2.3.6\n",
      "pathspec                           0.7.0\n",
      "pathy                              0.6.2\n",
      "patsy                              0.5.2\n",
      "pep8                               1.7.1\n",
      "pexpect                            4.8.0\n",
      "phik                               0.12.1\n",
      "pickleshare                        0.7.5\n",
      "Pillow                             8.4.0\n",
      "pip                                21.2.4\n",
      "pkginfo                            1.7.1\n",
      "platformdirs                       2.5.2\n",
      "plotly                             5.9.0\n",
      "pluggy                             0.13.1\n",
      "ply                                3.11\n",
      "pmdarima                           1.8.4\n",
      "pooch                              1.6.0\n",
      "poyo                               0.5.0\n",
      "preprocessing                      0.1.13\n",
      "preshed                            3.0.6\n",
      "prometheus-client                  0.11.0\n",
      "prometheus-flask-exporter          0.20.2\n",
      "prompt-toolkit                     3.0.20\n",
      "Protego                            0.1.16\n",
      "protobuf                           3.19.1\n",
      "psutil                             5.8.0\n",
      "ptyprocess                         0.7.0\n",
      "pure-eval                          0.2.2\n",
      "py                                 1.10.0\n",
      "pyasn1                             0.4.8\n",
      "pyasn1-modules                     0.2.8\n",
      "pycaret                            2.2.2\n",
      "pycodestyle                        2.7.0\n",
      "pycosat                            0.6.3\n",
      "pycparser                          2.20\n",
      "pyct                               0.4.8\n",
      "pycurl                             7.44.1\n",
      "pydantic                           1.9.0\n",
      "PyDispatcher                       2.0.5\n",
      "pydocstyle                         6.1.1\n",
      "pyerfa                             2.0.0\n",
      "pyflakes                           2.3.1\n",
      "Pygments                           2.10.0\n",
      "PyHamcrest                         2.0.2\n",
      "PyJWT                              2.1.0\n",
      "pyLDAvis                           3.3.1\n",
      "pylint                             2.9.6\n",
      "pyls-spyder                        0.4.0\n",
      "PyNaCl                             1.4.0\n",
      "pynndescent                        0.5.7\n",
      "pyod                               1.0.4\n",
      "pyodbc                             4.0.0-unsupported\n",
      "pyOpenSSL                          21.0.0\n",
      "pyparsing                          3.0.4\n",
      "pyreadline                         2.1\n",
      "pyrsistent                         0.18.0\n",
      "PySocks                            1.7.1\n",
      "pytest                             6.2.4\n",
      "python-dateutil                    2.8.2\n",
      "python-jsonrpc-server              0.4.0\n",
      "python-language-server             0.36.2\n",
      "python-lsp-black                   1.0.0\n",
      "python-lsp-jsonrpc                 1.0.0\n",
      "python-lsp-server                  1.2.4\n",
      "python-slugify                     5.0.2\n",
      "python-snappy                      0.6.0\n",
      "pytz                               2021.3\n",
      "pyviz-comms                        2.0.2\n",
      "PyWavelets                         1.1.1\n",
      "pywin32                            227\n",
      "pywin32-ctypes                     0.2.0\n",
      "pywinpty                           0.5.7\n",
      "PyYAML                             6.0\n",
      "pyzmq                              22.2.1\n",
      "QDarkStyle                         3.0.2\n",
      "qstylizer                          0.1.10\n",
      "QtAwesome                          1.0.2\n",
      "qtconsole                          5.1.1\n",
      "QtPy                               1.10.0\n",
      "querystring-parser                 1.2.4\n",
      "queuelib                           1.5.0\n",
      "regex                              2021.8.3\n",
      "requests                           2.26.0\n",
      "requests-file                      1.5.1\n",
      "requests-oauthlib                  1.3.1\n",
      "rope                               0.19.0\n",
      "rsa                                4.8\n",
      "Rtree                              0.9.7\n",
      "ruamel-yaml-conda                  0.15.100\n",
      "s3transfer                         0.6.0\n",
      "scikeras                           0.6.1\n",
      "scikit-image                       0.18.3\n",
      "scikit-learn                       1.1.1\n",
      "scikit-learn-intelex               2021.20210714.120553\n",
      "scikit-plot                        0.3.7\n",
      "scipy                              1.7.1\n",
      "Scrapy                             2.6.1\n",
      "seaborn                            0.11.2\n",
      "Send2Trash                         1.8.0\n",
      "sequential                         1.0.0\n",
      "service-identity                   18.1.0\n",
      "setuptools                         58.0.4\n",
      "simplegeneric                      0.8.1\n",
      "singledispatch                     3.7.0\n",
      "sip                                4.19.13\n",
      "six                                1.16.0\n",
      "sklearn                            0.0\n",
      "smart-open                         5.2.1\n",
      "smmap                              5.0.0\n",
      "sniffio                            1.2.0\n",
      "snowballstemmer                    2.1.0\n",
      "sortedcollections                  2.1.0\n",
      "sortedcontainers                   2.4.0\n",
      "soupsieve                          2.2.1\n",
      "spacy                              3.4.1\n",
      "spacy-legacy                       3.0.9\n",
      "spacy-loggers                      1.0.3\n",
      "Sphinx                             4.2.0\n",
      "sphinx-rtd-theme                   0.2.4\n",
      "sphinxcontrib-applehelp            1.0.2\n"
     ]
    },
    {
     "name": "stdout",
     "output_type": "stream",
     "text": [
      "sphinxcontrib-devhelp              1.0.2\n",
      "sphinxcontrib-htmlhelp             2.0.0\n",
      "sphinxcontrib-jsmath               1.0.1\n",
      "sphinxcontrib-qthelp               1.0.3\n",
      "sphinxcontrib-serializinghtml      1.1.5\n",
      "sphinxcontrib-websupport           1.2.4\n",
      "spyder                             5.1.5\n",
      "spyder-kernels                     2.1.3\n",
      "SQLAlchemy                         1.4.22\n",
      "sqlparse                           0.4.2\n",
      "srsly                              2.4.4\n",
      "stable-baselines3                  1.4.0\n",
      "stack-data                         0.2.0\n",
      "statsmodels                        0.13.2\n",
      "stumpy                             1.11.1\n",
      "sympy                              1.9\n",
      "tables                             3.6.1\n",
      "tabulate                           0.8.10\n",
      "tangled-up-in-unicode              0.2.0\n",
      "TBB                                0.2\n",
      "tblib                              1.7.0\n",
      "tenacity                           8.0.1\n",
      "tensorboard                        2.8.0\n",
      "tensorboard-data-server            0.6.1\n",
      "tensorboard-plugin-wit             1.8.1\n",
      "tensorflow                         2.8.0\n",
      "tensorflow-io-gcs-filesystem       0.24.0\n",
      "termcolor                          1.1.0\n",
      "terminado                          0.9.4\n",
      "testpath                           0.5.0\n",
      "text-unidecode                     1.3\n",
      "textblob                           0.17.1\n",
      "textdistance                       4.2.1\n",
      "tf-estimator-nightly               2.8.0.dev2021122109\n",
      "thinc                              8.1.0\n",
      "threadpoolctl                      2.2.0\n",
      "three-merge                        0.1.1\n",
      "tifffile                           2021.7.2\n",
      "tinycss                            0.4\n",
      "tldextract                         3.2.0\n",
      "toml                               0.10.2\n",
      "tomli                              2.0.1\n",
      "toolz                              0.11.1\n",
      "torch                              1.10.2\n",
      "tornado                            6.1\n",
      "tqdm                               4.62.3\n",
      "traitlets                          5.1.0\n",
      "tsfel                              0.1.4\n",
      "tsfresh                            0.19.0\n",
      "Twisted                            22.2.0\n",
      "twisted-iocpsupport                1.0.2\n",
      "typed-ast                          1.4.3\n",
      "typer                              0.4.2\n",
      "typing-extensions                  3.10.0.2\n",
      "ujson                              4.0.2\n",
      "umap-learn                         0.5.3\n",
      "unicodecsv                         0.14.1\n",
      "Unidecode                          1.2.0\n",
      "urllib3                            1.26.7\n",
      "utils                              1.0.1\n",
      "virtualenv                         20.14.1\n",
      "visions                            0.7.4\n",
      "w3lib                              1.21.0\n",
      "waitress                           2.1.2\n",
      "wasabi                             0.10.1\n",
      "watchdog                           2.1.3\n",
      "wcwidth                            0.2.5\n",
      "webencodings                       0.5.1\n",
      "websocket-client                   1.3.3\n",
      "Werkzeug                           2.0.2\n",
      "wheel                              0.37.0\n",
      "whichcraft                         0.6.1\n",
      "widgetsnbextension                 3.5.1\n",
      "win-inet-pton                      1.1.0\n",
      "win-unicode-console                0.5\n",
      "wincertstore                       0.2\n",
      "wordcloud                          1.8.2.2\n",
      "wrapt                              1.12.1\n",
      "xarray                             0.20.1\n",
      "xgboost                            1.6.1\n",
      "xlrd                               2.0.1\n",
      "XlsxWriter                         3.0.1\n",
      "xlwings                            0.24.9\n",
      "xlwt                               1.3.0\n",
      "xmltodict                          0.12.0\n",
      "yapf                               0.31.0\n",
      "yarl                               1.6.3\n",
      "yellowbrick                        1.4\n",
      "yfinance                           0.1.70\n",
      "zict                               2.0.0\n",
      "zipp                               3.6.0\n",
      "zope.event                         4.5.0\n",
      "zope.interface                     5.4.0\n"
     ]
    }
   ],
   "source": [
    "!pip list"
   ]
  },
  {
   "cell_type": "markdown",
   "id": "9b9e451b",
   "metadata": {},
   "source": [
    "- profile the function and identify the bottlenecks.\n",
    "- improve speed up of the function\n",
    "*Hint: you may need to look to the string functions in python documentation*"
   ]
  },
  {
   "cell_type": "code",
   "execution_count": 3,
   "id": "9fb62dca",
   "metadata": {},
   "outputs": [
    {
     "name": "stdout",
     "output_type": "stream",
     "text": [
      "1.8 µs ± 29.6 ns per loop (mean ± std. dev. of 7 runs, 1000000 loops each)\n"
     ]
    }
   ],
   "source": [
    "%%timeit\n",
    "ft_concatenate(\"this is not a str\", ',')"
   ]
  },
  {
   "cell_type": "code",
   "execution_count": 7,
   "id": "eca8f715",
   "metadata": {},
   "outputs": [
    {
     "data": {
      "text/plain": [
       "'t,h,i,s, ,i,s, ,n,o,t, ,a, ,s,t,r'"
      ]
     },
     "execution_count": 7,
     "metadata": {},
     "output_type": "execute_result"
    }
   ],
   "source": [
    "ft_concatenate(\"this is not a str\", ',')"
   ]
  },
  {
   "cell_type": "code",
   "execution_count": 8,
   "id": "4b086f45",
   "metadata": {},
   "outputs": [
    {
     "data": {
      "text/plain": [
       "'qtr'"
      ]
     },
     "execution_count": 8,
     "metadata": {},
     "output_type": "execute_result"
    }
   ],
   "source": [
    "ft_concatenate(['q','r'],'t')"
   ]
  },
  {
   "cell_type": "code",
   "execution_count": 6,
   "id": "1f0ded92",
   "metadata": {},
   "outputs": [
    {
     "name": "stdout",
     "output_type": "stream",
     "text": [
      " "
     ]
    }
   ],
   "source": [
    "%prun ft_concatenate(['q','r'],'t')"
   ]
  },
  {
   "cell_type": "code",
   "execution_count": 7,
   "id": "385bc01e",
   "metadata": {},
   "outputs": [
    {
     "ename": "SyntaxError",
     "evalue": "unexpected character after line continuation character (<string>, line 1)",
     "output_type": "error",
     "traceback": [
      "Traceback \u001b[1;36m(most recent call last)\u001b[0m:\n",
      "  File \u001b[0;32m\"C:\\Users\\hp\\anaconda3\\lib\\site-packages\\IPython\\core\\interactiveshell.py\"\u001b[0m, line \u001b[0;32m3444\u001b[0m, in \u001b[0;35mrun_code\u001b[0m\n    exec(code_obj, self.user_global_ns, self.user_ns)\n",
      "  File \u001b[0;32m\"C:\\Users\\hp\\AppData\\Local\\Temp/ipykernel_13708/1667557119.py\"\u001b[0m, line \u001b[0;32m1\u001b[0m, in \u001b[0;35m<module>\u001b[0m\n    get_ipython().run_line_magic('lprun', \"-f ft_concatenate ft_concatenate(['q','r'],'t')\")\n",
      "  File \u001b[0;32m\"C:\\Users\\hp\\anaconda3\\lib\\site-packages\\IPython\\core\\interactiveshell.py\"\u001b[0m, line \u001b[0;32m2351\u001b[0m, in \u001b[0;35mrun_line_magic\u001b[0m\n    result = fn(*args, **kwargs)\n",
      "  File \u001b[0;32m\"C:\\Users\\hp\\anaconda3\\lib\\site-packages\\decorator.py\"\u001b[0m, line \u001b[0;32m232\u001b[0m, in \u001b[0;35mfun\u001b[0m\n    return caller(func, *(extras + args), **kw)\n",
      "  File \u001b[0;32m\"C:\\Users\\hp\\anaconda3\\lib\\site-packages\\IPython\\core\\magic.py\"\u001b[0m, line \u001b[0;32m187\u001b[0m, in \u001b[0;35m<lambda>\u001b[0m\n    call = lambda f, *a, **k: f(*a, **k)\n",
      "  File \u001b[0;32m\"C:\\Users\\hp\\anaconda3\\lib\\site-packages\\line_profiler\\ipython_extension.py\"\u001b[0m, line \u001b[0;32m104\u001b[0m, in \u001b[0;35mlprun\u001b[0m\n    profile.runctx(arg_str, global_ns, local_ns)\n",
      "\u001b[1;36m  File \u001b[1;32m\"C:\\Users\\hp\\anaconda3\\lib\\site-packages\\line_profiler\\line_profiler.py\"\u001b[1;36m, line \u001b[1;32m160\u001b[1;36m, in \u001b[1;35mrunctx\u001b[1;36m\u001b[0m\n\u001b[1;33m    exec(cmd, globals, locals)\u001b[0m\n",
      "\u001b[1;36m  File \u001b[1;32m\"<string>\"\u001b[1;36m, line \u001b[1;32m1\u001b[0m\n\u001b[1;33m    ft_concatenate([\\'q\\',\\'r\\'],\\'t\\')\u0000\u001b[0m\n\u001b[1;37m                                      ^\u001b[0m\n\u001b[1;31mSyntaxError\u001b[0m\u001b[1;31m:\u001b[0m unexpected character after line continuation character\n"
     ]
    }
   ],
   "source": [
    "%lprun -f ft_concatenate ft_concatenate(['q','r'],'t')"
   ]
  },
  {
   "cell_type": "markdown",
   "id": "9d3a9357",
   "metadata": {},
   "source": [
    "### Exercise 2\n",
    "\n",
    "In this exercise you will solve the following problem using two methods bruteforce method, and fast method.\n",
    "\n",
    "**Problem:** You are given a list of n integers, and your task is to calculate the number of distinct values in the list.\n",
    "\n",
    "**Example**\n",
    "- Input:\n",
    "5\n",
    "2 3 2 2 3\n",
    "\n",
    "- Output:\n",
    "2\n",
    "\n",
    "**Implement the following methods:**\n",
    "\n",
    "1. **bruteforce method:** create an empty list and start adding items for the given list without adding the previous item add, at the end the result list will contain unique values, print lenght of the list and you are done. \n",
    "2. **fast method** think of using Set data structure.\n",
    "\n",
    "- time the two methods, what do you think?"
   ]
  },
  {
   "cell_type": "code",
   "execution_count": 9,
   "id": "68624c30",
   "metadata": {},
   "outputs": [],
   "source": [
<<<<<<< HEAD
    "# bruteforce fast method\n",
    "\n"
=======
    "# bruteforce method\n"
>>>>>>> 04a7f39111ff9dc7d310298f841fd3ebb01424b2
   ]
  },
  {
   "cell_type": "code",
   "execution_count": 10,
   "id": "8be59e6b",
   "metadata": {},
   "outputs": [],
   "source": [
    "# fast method\n"
   ]
  },
  {
   "cell_type": "code",
   "execution_count": 11,
   "id": "15131d55",
   "metadata": {},
   "outputs": [],
   "source": [
    "# Create a random list of numbers for testing\n",
    "\n",
    "# time the two methods\n"
   ]
  },
  {
   "cell_type": "markdown",
   "id": "e53c0d53",
   "metadata": {},
   "source": [
    "## Cython exercises"
   ]
  },
  {
   "cell_type": "markdown",
   "id": "b33cb080",
   "metadata": {},
   "source": [
    "### Exercise 1"
   ]
  },
  {
   "cell_type": "markdown",
   "id": "985c05fd",
   "metadata": {},
   "source": [
    "1. load the cython extension."
   ]
  },
  {
   "cell_type": "code",
   "execution_count": null,
   "id": "2c930dff",
   "metadata": {},
   "outputs": [],
   "source": []
  },
  {
   "cell_type": "markdown",
   "id": "ddd4b46e",
   "metadata": {},
   "source": [
    "2. Considering the following polynomial function:"
   ]
  },
  {
   "cell_type": "code",
   "execution_count": 12,
   "id": "23fa41c6",
   "metadata": {},
   "outputs": [],
   "source": [
    "def poly(a,b):\n",
    "    return 10.5 * a + 3 * (b**2)"
   ]
  },
  {
   "cell_type": "markdown",
   "id": "6f9749a2",
   "metadata": {},
   "source": [
    "- Create an equivalent Cython function of `poly` with name `poly_cy`."
   ]
  },
  {
   "cell_type": "code",
   "execution_count": null,
   "id": "19a3e1f1",
   "metadata": {},
   "outputs": [],
   "source": []
  },
  {
   "cell_type": "markdown",
   "id": "75ebbe8b",
   "metadata": {},
   "source": [
    "3. time the performance of Python and Cython version of the function, what is the factor of speed up between the two verions."
   ]
  },
  {
   "cell_type": "code",
   "execution_count": 13,
   "id": "2f5373a0",
   "metadata": {},
   "outputs": [],
   "source": [
    "# write your code here"
   ]
  },
  {
   "cell_type": "markdown",
   "id": "ecee1aef",
   "metadata": {},
   "source": [
    "4. Now let's work on another example using loop.\n",
    "    - rewrite the same function below fib that calculates the fibonacci sequence using cython, but now try to add type for the variables used inside it, add a prefix `_cy` to your new cython function."
   ]
  },
  {
   "cell_type": "code",
   "execution_count": 14,
   "id": "b8575981",
   "metadata": {},
   "outputs": [],
   "source": [
    "def fib(n):\n",
    "    a, b = 1, 1\n",
    "    for i in range(n):\n",
    "        a, b = a + b, a\n",
    "\n",
    "    return a"
   ]
  },
  {
   "cell_type": "code",
   "execution_count": 15,
   "id": "13b2da9f",
   "metadata": {},
   "outputs": [],
   "source": [
    "# write your code here"
   ]
  },
  {
   "cell_type": "markdown",
   "id": "8b9eb0e4",
   "metadata": {},
   "source": [
    "- time the two function for fibonacci series, with n = 20, what is the factor of speed now, What do you think?"
   ]
  },
  {
   "cell_type": "code",
   "execution_count": 16,
   "id": "fb3ab6f7",
   "metadata": {},
   "outputs": [],
   "source": [
    "# write your code here"
   ]
  },
  {
   "cell_type": "markdown",
   "id": "c874b1c2",
   "metadata": {},
   "source": [
    "5. Recursive functions are functions that call themselves during their execution. Another interesting property of the Fibonacci sequence is that it can be written as a recursive function. That’s because each item depends on the values of other items (namely item n-1 and item n-2)\n",
    "\n",
    "- Rewrite the fib function using recursion. Is it faster than the non-recursive version? Does Cythonizing it give even more of an advantage? "
   ]
  },
  {
   "cell_type": "code",
   "execution_count": 17,
   "id": "e05d16a9",
   "metadata": {},
   "outputs": [],
   "source": [
    "# write your code here"
   ]
  },
  {
   "cell_type": "markdown",
   "id": "9f34c567",
   "metadata": {},
   "source": [
    "### Exercise 2\n",
    "\n",
    "- Monte Carlo methods are a broad class of computational algorithms that rely on repeated random sampling to obtain numerical results. \n",
    "- One of the basic examples of getting started with the Monte Carlo algorithm is the estimation of Pi.\n",
    "\n",
    "**Estimation of Pi**\n",
    "\n",
    "- The idea is to simulate random (x, y) points in a 2-D plane with domain as a square of side 1 unit. \n",
    "- Imagine a circle inside the same domain with same diameter and inscribed into the square. \n",
    "- We then calculate the ratio of number points that lied inside the circle and total number of generated points. \n",
    "- Refer to the image below:\n",
    "\n",
    "![demo](../data/MonteCarloPlot.png)\n",
    "\n",
    "We know that area of the square is 1 unit sq while that of circle is $\\pi \\ast  (\\frac{1}{2})^{2} = \\frac{\\pi}{4}$. Now for a very large number of generated points,\n",
    "\n",
    "![demo](../data/MonteCarloCalc.png)\n",
    "\n",
    "\n",
    "## The Algorithm\n",
    "\n",
    "1. Initialize cile_points, square_points and interval to 0.\n",
    "2. Generate random point x.\n",
    "3. Generate random point y.\n",
    "4. Calculate d = x*x + y*y.\n",
    "5. If d <= 1, increment circle_points.\n",
    "6. Increment square_points.\n",
    "7. Increment interval.\n",
    "8. If increment < NO_OF_ITERATIONS, repeat from 2.\n",
    "9. Calculate pi = 4*(circle_points/square_points).\n",
    "10. Terminate."
   ]
  },
  {
   "cell_type": "markdown",
   "id": "b30e8d54",
   "metadata": {},
   "source": [
    "**Your mission:** time the function `monte_carlo_pi`, identify the bottlenecks and create a new version using cython functionality to speed up monte carlo simulation for PI, use 100,000 points and compare the speed up factor between python and cython, considering the following optimizations:\n",
    "- add type for variables used.\n",
    "- add type for the function\n",
    "- use c rand function instead of python rand function.\n",
    " \n",
    "*Hint: you can import function from C libraries using the following approach `from libc.<name of c library> cimport <library function name>`, replace the holders `<>` with the right identities for the current problem*"
   ]
  },
  {
   "cell_type": "code",
   "execution_count": 18,
   "id": "389b89c4",
   "metadata": {},
   "outputs": [],
   "source": [
    "import random\n",
    "def monte_carlo_pi(nsamples):\n",
    "    pi = 0.\n",
    "   # Implement your code here\n",
    "    return pi"
   ]
  },
  {
   "cell_type": "markdown",
   "id": "a6398e31",
   "metadata": {},
   "source": [
    "## Numba exercises"
   ]
  },
  {
   "cell_type": "markdown",
   "id": "dce9991f",
   "metadata": {},
   "source": [
    "### Exercise 1\n",
    "\n",
    "Previously we considered how to approximateby Monte Carlo.\n",
    "\n",
    "- Use the same idea here, but make the code efficient using Numba.\n",
    "- Compare speed with and without Numba when the sample size is large."
   ]
  },
  {
   "cell_type": "code",
   "execution_count": null,
   "id": "ab04602a",
   "metadata": {},
   "outputs": [],
   "source": [
    "# Your code here"
   ]
  },
  {
   "cell_type": "markdown",
   "id": "acbb7f84",
   "metadata": {},
   "source": [
    "### Exercise 2\n",
    "\n",
    "In the [Introduction to Quantitative Economics](https://python.quantecon.org/intro.html) with Python lecture series you can learn all about finite-state Markov chains.\n",
    "\n",
    "For now, let's just concentrate on simulating a very simple example of such a chain.\n",
    "\n",
    "Suppose that the volatility of returns on an asset can be in one of two regimes — high or low.\n",
    "\n",
    "The transition probabilities across states are as follows ![markov](../data/markov.png)\n",
    "\n",
    "For example, let the period length be one day, and suppose the current state is high.\n",
    "\n",
    "We see from the graph that the state tomorrow will be\n",
    "\n",
    "- high with probability 0.8\n",
    "\n",
    "- low with probability 0.2\n",
    "\n",
    "Your task is to simulate a sequence of daily volatility states according to this rule.\n",
    "\n",
    "Set the length of the sequence to `n = 1_000_000` and start in the high state.\n",
    "\n",
    "Implement a pure Python version and a Numba version, and compare speeds.\n",
    "\n",
    "To test your code, evaluate the fraction of time that the chain spends in the low state.\n",
    "\n",
    "If your code is correct, it should be about 2/3.\n",
    "\n",
    "Hints:\n",
    "\n",
    "- Represent the low state as 0 and the high state as 1.\n",
    "\n",
    "- If you want to store integers in a NumPy array and then apply JIT compilation, use `x = np.empty(n, dtype=np.int_)`.\n"
   ]
  }
 ],
 "metadata": {
  "hide_input": false,
  "kernelspec": {
   "display_name": "Python 3 (ipykernel)",
   "language": "python",
   "name": "python3"
  },
  "language_info": {
   "codemirror_mode": {
    "name": "ipython",
    "version": 3
   },
   "file_extension": ".py",
   "mimetype": "text/x-python",
   "name": "python",
   "nbconvert_exporter": "python",
   "pygments_lexer": "ipython3",
   "version": "3.9.7"
  }
 },
 "nbformat": 4,
 "nbformat_minor": 5
}
